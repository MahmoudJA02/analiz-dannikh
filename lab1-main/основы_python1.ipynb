{
 "cells": [
  {
   "cell_type": "markdown",
   "metadata": {
    "id": "M-DGa20PaHnu"
   },
   "source": [
    "#Задача 1\n",
    "Написать функцию на вход которой подается строка, состоящая из латинских букв.\n",
    "Функция должна вернуть количество гласных букв (a, e, i, o, u) в этой строке. Написать тесты для кода"
   ]
  },
  {
   "cell_type": "code",
   "execution_count": 4,
   "metadata": {
    "id": "XvX8X_JJ6PCb"
   },
   "outputs": [],
   "source": [
    "def count_vowels(s):\n",
    "    s = s.lower()\n",
    "    vowels = 'aeiou'\n",
    "    count = 0\n",
    "    for char in s:\n",
    "        if char in vowels:\n",
    "            count += 1\n",
    "    return count"
   ]
  },
  {
   "cell_type": "markdown",
   "metadata": {
    "id": "t2ClV_Y0bbr6"
   },
   "source": [
    "# Задача 2\n",
    "Написать функцию на вход, которой подается строка. Функция должна вернуть true, если\n",
    "каждый символ в строке встречается только 1 раз, иначе должна вернуть false. Написать тесты для кода"
   ]
  },
  {
   "cell_type": "code",
   "execution_count": 6,
   "metadata": {
    "id": "FppbECao6VIz"
   },
   "outputs": [],
   "source": [
    "def is_unique_chars(input_string):\n",
    "    char_count = {}\n",
    "    for char in input_string:\n",
    "        if char in char_count:\n",
    "            return False\n",
    "        char_count[char] = 1\n",
    "    return True\n"
   ]
  },
  {
   "cell_type": "markdown",
   "metadata": {
    "id": "udRiIK1cdt6E"
   },
   "source": [
    "# Задача 3\n",
    "Написать функцию, которая принимает положительное число и возвращает количество\n",
    "бит равных 1 в этом числе. Написать тесты для кода"
   ]
  },
  {
   "cell_type": "code",
   "execution_count": 7,
   "metadata": {
    "id": "6tkfDJRz6dp_"
   },
   "outputs": [],
   "source": [
    "def count_set_bits(num):\n",
    "    count = 0\n",
    "    while num:\n",
    "        count += num & 1\n",
    "        num >>= 1\n",
    "    return count"
   ]
  },
  {
   "cell_type": "markdown",
   "metadata": {
    "id": "26dDUz-Ae17N"
   },
   "source": [
    "# Задача 4\n",
    "Написать функцию, которая принимает положительное число. Функция должна вернуть то,\n",
    "сколько раз необходимо перемножать цифры числа или результат перемножения, чтобы\n",
    "получилось число состоящее из одной цифры.\n",
    "Например, для входного числа:\n",
    "· 39 функция должна вернуть 3, так как 3*9=27 => 2*7=14 => 1*4=4\n",
    "· 4 функция должна вернуть 0, так как число уже состоит из одной цифры\n",
    "· 999 функция должна вернуть 4, так как 9*9*9=729 => 7*2*9=126 => 1*2*6=12 =>\n",
    "1*2=2. Написать тесты для кода"
   ]
  },
  {
   "cell_type": "code",
   "execution_count": 8,
   "metadata": {
    "id": "BH1A_Mgi6i4G"
   },
   "outputs": [],
   "source": [
    "def magic(n):\n",
    "    if n < 10:\n",
    "        return 0\n",
    "    \n",
    "    steps = 0\n",
    "    while n >= 10:\n",
    "        product = 1\n",
    "        while n > 0:\n",
    "            digit = n % 10\n",
    "            product *= digit\n",
    "            n //= 10\n",
    "        n = product\n",
    "        steps += 1\n",
    "\n",
    "    return steps"
   ]
  },
  {
   "cell_type": "markdown",
   "metadata": {
    "id": "0nS-kIa8g8vd"
   },
   "source": [
    "# Задача 5\n",
    "Написать функцию, которая принимает два целочисленных вектора одинаковой длины и\n",
    "возвращает среднеквадратическое отклонение двух векторов. Написать тесты для кода"
   ]
  },
  {
   "cell_type": "code",
   "execution_count": 9,
   "metadata": {
    "id": "8iphx4LM6xbx"
   },
   "outputs": [],
   "source": [
    "import math\n",
    "\n",
    "def standard_deviation(vector1, vector2):\n",
    "    if len(vector1) != len(vector2):\n",
    "        raise ValueError(\"Both vectors must have the same length.\")\n",
    "    \n",
    "    n = len(vector1)\n",
    "    \n",
    "    mean1 = sum(vector1) / n\n",
    "    mean2 = sum(vector2) / n\n",
    "    \n",
    "    squared_diff_sum = sum((x - mean1) ** 2 + (y - mean2) ** 2 for x, y in zip(vector1, vector2))\n",
    "    mean_squared_error = squared_diff_sum / (2 * n)\n",
    "    \n",
    "    std_deviation = math.sqrt(mean_squared_error)\n",
    "    \n",
    "    return std_deviation"
   ]
  },
  {
   "cell_type": "code",
   "execution_count": null,
   "metadata": {
    "id": "vpIPKL439zkw"
   },
   "outputs": [],
   "source": [
    "# Задача 6\n",
    "Написать функцию, принимающая целое положительное число. Функция должна вернуть\n",
    "строку вида “(n1**p1)(n2**p2)…(nk**pk)” представляющая разложение числа на простые\n",
    "множители (если pi == 1, то выводить только ni).\n",
    "Например, для числа 86240 функция должна вернуть “(2**5)(5)(7**2)(11)”. Написать тесты для кода"
   ]
  },
  {
   "cell_type": "code",
   "execution_count": 10,
   "metadata": {
    "id": "pFebmcZk94Jw"
   },
   "outputs": [],
   "source": [
    "def prime_factors_decomposition(n):\n",
    "    factors = []\n",
    "    divisor = 2\n",
    "    while n > 1:\n",
    "        count = 0\n",
    "        while n % divisor == 0:\n",
    "            n //= divisor\n",
    "            count += 1\n",
    "        if count > 0:\n",
    "            if count == 1:\n",
    "                factors.append(str(divisor))\n",
    "            else:\n",
    "                factors.append(f\"{divisor}**{count}\")\n",
    "        divisor += 1\n",
    "\n",
    "    return f\"({')('.join(factors)})\" "
   ]
  },
  {
   "cell_type": "markdown",
   "metadata": {
    "id": "ps2s0BudX7A2"
   },
   "source": [
    "# Задача 7\n",
    "Написать функцию, принимающая целое число n, задающее количество кубиков. Функция\n",
    "должна определить, можно ли из данного кол-ва кубиков построить пирамиду, то есть\n",
    "можно ли представить число n как 1^2+2^2+3^2+…+k^2. Если можно, то функция должна\n",
    "вернуть k, иначе строку “It is impossible”. Написать тесты для кода"
   ]
  },
  {
   "cell_type": "code",
   "execution_count": 11,
   "metadata": {
    "id": "3YPjEXxhX_YT"
   },
   "outputs": [],
   "source": [
    "def pyramid(number):\n",
    "    k = 0\n",
    "    while number > 0:\n",
    "        k += 1\n",
    "        number -= k ** 2\n",
    "\n",
    "    if number == 0:\n",
    "        return k\n",
    "    else:\n",
    "        return \"It is impossible\""
   ]
  },
  {
   "cell_type": "markdown",
   "metadata": {
    "id": "KeKgmIdAQMEJ"
   },
   "source": [
    "# Задача 8\n",
    "Функция принимает на вход положительное число и определяет является ли оно сбалансированным, т.е. сумма цифр до средних равна сумме цифр после. Средними в случае нечетного числа цифр считать одну цифру, в случае четного - две средних. Написать тесты для кода"
   ]
  },
  {
   "cell_type": "code",
   "execution_count": 12,
   "metadata": {
    "id": "gMAAqtqlQrZt"
   },
   "outputs": [],
   "source": [
    "def is_balanced_number(number):\n",
    "    num_str = str(number)\n",
    "    num_len = len(num_str)\n",
    "\n",
    "    if num_len % 2 == 0:\n",
    "        middle1 = num_len // 2 - 1\n",
    "        middle2 = num_len // 2\n",
    "    else:\n",
    "        middle1 = middle2 = num_len // 2\n",
    "  \n",
    "    sum_before = sum(map(int, num_str[:middle1]))\n",
    "    sum_after = sum(map(int, num_str[middle2 + 1:]))\n",
    "   \n",
    "    return sum_before == sum_after"
   ]
  },
  {
   "cell_type": "code",
   "execution_count": null,
   "metadata": {},
   "outputs": [],
   "source": []
  }
 ],
 "metadata": {
  "colab": {
   "provenance": []
  },
  "kernelspec": {
   "display_name": "Python 3.11.5 64-bit",
   "language": "python",
   "name": "python3"
  },
  "language_info": {
   "codemirror_mode": {
    "name": "ipython",
    "version": 3
   },
   "file_extension": ".py",
   "mimetype": "text/x-python",
   "name": "python",
   "nbconvert_exporter": "python",
   "pygments_lexer": "ipython3",
   "version": "3.11.5"
  },
  "vscode": {
   "interpreter": {
    "hash": "b4ef853cc02e2f3355184ac501701301b02dbec8593e30e3e68d1904f9006f9a"
   }
  }
 },
 "nbformat": 4,
 "nbformat_minor": 4
}
